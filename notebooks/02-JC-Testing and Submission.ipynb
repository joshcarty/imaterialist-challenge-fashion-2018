{
 "cells": [
  {
   "cell_type": "code",
   "execution_count": 341,
   "metadata": {},
   "outputs": [],
   "source": [
    "import fastai\n",
    "import pandas as pd\n",
    "import numpy as np\n",
    "import matplotlib.pyplot as plt\n",
    "\n",
    "from fastai.transforms import transforms_side_on\n",
    "from fastai.conv_learner import ImageClassifierData, get_cv_idxs, resnet34, resnet50, tfms_from_model, ConvLearner, vgg16\n",
    "from fastai.metrics import f1\n",
    "from sklearn.metrics import f1_score, confusion_matrix\n",
    "\n",
    "from PIL import Image"
   ]
  },
  {
   "cell_type": "code",
   "execution_count": 189,
   "metadata": {},
   "outputs": [
    {
     "data": {
      "text/plain": [
       "89896"
      ]
     },
     "execution_count": 189,
     "metadata": {},
     "output_type": "execute_result"
    }
   ],
   "source": [
    "df = pd.read_csv('../data/train/train.csv')\n",
    "n = len(df)\n",
    "n"
   ]
  },
  {
   "cell_type": "code",
   "execution_count": 17,
   "metadata": {},
   "outputs": [],
   "source": [
    "def show_image(image_id, ax=None):\n",
    "    img = Image.open(f'../data/train/{image_id}.jpg')\n",
    "    if ax:\n",
    "        ax.imshow(img)\n",
    "    else:\n",
    "        plt.imshow(img)"
   ]
  },
  {
   "cell_type": "code",
   "execution_count": null,
   "metadata": {},
   "outputs": [],
   "source": [
    "labs = {\n",
    "    '5': 'jumpers',\n",
    "    '2': 'open shoulder',\n",
    "    '1': 'diamonds',\n",
    "    '3': 'sports bottoms',\n",
    "    '4': 'sports grey',\n",
    "    '6': 'lycra shorts',\n",
    "    '7': 'open back',\n",
    "    '8': 'grungy',\n",
    "    '9': 'tight fitting',\n",
    "    '10': 'bikini tops',\n",
    "    '11': 'baggy tops',\n",
    "    '12': 'flowy dresses',\n",
    "    '13': 'wedding',\n",
    "    '14': 'beige',\n",
    "    '15': 'bikini',\n",
    "    '16': 'corset',\n",
    "    '17': 'black lace',\n",
    "    '18'\n",
    "}"
   ]
  },
  {
   "cell_type": "markdown",
   "metadata": {},
   "source": [
    "## Validation\n",
    "### VGG"
   ]
  },
  {
   "cell_type": "code",
   "execution_count": 444,
   "metadata": {},
   "outputs": [],
   "source": [
    "model = resnet50\n",
    "model = vgg16\n",
    "tfms = tfms_from_model(model, 64, aug_tfms=transforms_side_on, max_zoom=1.05)\n",
    "\n",
    "data = ImageClassifierData.from_csv(\n",
    "    path='../data',\n",
    "    folder='train',\n",
    "    csv_fname='../data/train/train.csv',\n",
    "    bs=32,\n",
    "    test_name='test',\n",
    "    skip_header=True,\n",
    "    suffix='.jpg',\n",
    "    val_idxs=get_cv_idxs(n, val_pct=0.2),\n",
    "    tfms=tfms\n",
    ")"
   ]
  },
  {
   "cell_type": "code",
   "execution_count": 445,
   "metadata": {},
   "outputs": [],
   "source": [
    "learn = ConvLearner.pretrained(model, data)"
   ]
  },
  {
   "cell_type": "code",
   "execution_count": 446,
   "metadata": {},
   "outputs": [],
   "source": [
    "learn.load('80k_unfrozen_vgg_l062_03.h5')"
   ]
  },
  {
   "cell_type": "code",
   "execution_count": 447,
   "metadata": {},
   "outputs": [
    {
     "name": "stdout",
     "output_type": "stream",
     "text": []
    },
    {
     "data": {
      "text/plain": [
       "0.54053716186977729"
      ]
     },
     "execution_count": 447,
     "metadata": {},
     "output_type": "execute_result"
    }
   ],
   "source": [
    "y_pred_tta, y = learn.TTA()\n",
    "y_pred_mean_tta = np.mean(y_pred_tta, axis=0)\n",
    "f1_score(data.val_y, (y_pred_mean_tta > 0.25).astype('int'), average='micro')"
   ]
  },
  {
   "cell_type": "code",
   "execution_count": 443,
   "metadata": {},
   "outputs": [
    {
     "data": {
      "text/plain": [
       "0.5317965334166147"
      ]
     },
     "execution_count": 443,
     "metadata": {},
     "output_type": "execute_result"
    }
   ],
   "source": [
    "f1_score(data.val_y, (y_pred_mean_tta > 0.25).astype('int'), average='micro')"
   ]
  },
  {
   "cell_type": "markdown",
   "metadata": {},
   "source": [
    "### Resnet"
   ]
  },
  {
   "cell_type": "code",
   "execution_count": 360,
   "metadata": {},
   "outputs": [],
   "source": [
    "model = resnet50\n",
    "tfms = tfms_from_model(model, 64, aug_tfms=transforms_side_on, max_zoom=1.05)\n",
    "\n",
    "data = ImageClassifierData.from_csv(\n",
    "    path='../data',\n",
    "    folder='train',\n",
    "    csv_fname='../data/train/train.csv',\n",
    "    bs=32,\n",
    "    test_name='test',\n",
    "    skip_header=True,\n",
    "    suffix='.jpg',\n",
    "    val_idxs=get_cv_idxs(n, val_pct=0.2),\n",
    "    tfms=tfms\n",
    ")"
   ]
  },
  {
   "cell_type": "code",
   "execution_count": 362,
   "metadata": {},
   "outputs": [],
   "source": [
    "learn = ConvLearner.pretrained(model, data)\n",
    "learn.load('80k_unfrozen_res50_l064_07.h5')"
   ]
  },
  {
   "cell_type": "code",
   "execution_count": 400,
   "metadata": {},
   "outputs": [
    {
     "data": {
      "text/plain": [
       "(5, 17979, 228)"
      ]
     },
     "execution_count": 400,
     "metadata": {},
     "output_type": "execute_result"
    }
   ],
   "source": [
    "y_res_pred_tta.shape"
   ]
  },
  {
   "cell_type": "code",
   "execution_count": 364,
   "metadata": {},
   "outputs": [],
   "source": [
    "model = resnet50\n",
    "tfms = tfms_from_model(model, 64, aug_tfms=transforms_side_on, max_zoom=1.05)\n",
    "\n",
    "data = ImageClassifierData.from_csv(\n",
    "    path='../data',\n",
    "    folder='train',\n",
    "    csv_fname='../data/train/train.csv',\n",
    "    bs=32,\n",
    "    test_name='test',\n",
    "    skip_header=True,\n",
    "    suffix='.jpg',\n",
    "    val_idxs=get_cv_idxs(n, val_pct=0.2),\n",
    "    tfms=tfms\n",
    ")\n",
    "\n",
    "learn = ConvLearner.pretrained(model, data)\n",
    "learn.load('80k_unfrozen_res50_l064_07.h5')\n",
    "\n",
    "y_test_res_pred_tta, y = learn.TTA(is_test=True)\n",
    "y_test_res_pred_mean_tta = np.mean(y_test_res_pred_tta, axis=0)"
   ]
  },
  {
   "cell_type": "code",
   "execution_count": 421,
   "metadata": {},
   "outputs": [
    {
     "data": {
      "text/plain": [
       "0.55728516633979308"
      ]
     },
     "execution_count": 421,
     "metadata": {},
     "output_type": "execute_result"
    }
   ],
   "source": [
    "f1_score(y, (y_res_pred_mean_tta > 0.25).astype('int'), average='micro')"
   ]
  },
  {
   "cell_type": "code",
   "execution_count": 448,
   "metadata": {},
   "outputs": [],
   "source": [
    "y_ens = np.array([y_pred_mean_tta, y_res_pred_mean_tta])\n",
    "y_ens_pred = np.mean(y_ens, axis=0)"
   ]
  },
  {
   "cell_type": "code",
   "execution_count": 449,
   "metadata": {},
   "outputs": [
    {
     "data": {
      "text/plain": [
       "0.56352915730178588"
      ]
     },
     "execution_count": 449,
     "metadata": {},
     "output_type": "execute_result"
    }
   ],
   "source": [
    "f1_score(y, (y_ens_pred > 0.25).astype('int'), average='micro')"
   ]
  },
  {
   "cell_type": "code",
   "execution_count": 453,
   "metadata": {},
   "outputs": [
    {
     "name": "stdout",
     "output_type": "stream",
     "text": [
      "0.2 0.555426111932\n",
      "0.21 0.558119169008\n",
      "0.22 0.560070217123\n",
      "0.23 0.561795515736\n",
      "0.24 0.56306628572\n",
      "0.25 0.563529157302\n",
      "0.26 0.563864926709\n",
      "0.27 0.56390548972\n",
      "0.28 0.563173214003\n",
      "0.29 0.562687963308\n"
     ]
    }
   ],
   "source": [
    "for p in np.arange(0.2, 0.3, 0.01):\n",
    "    print(p, f1_score(y, (y_ens_pred > p).astype('int'), average='micro'))"
   ]
  },
  {
   "cell_type": "markdown",
   "metadata": {},
   "source": [
    "## Test Set"
   ]
  },
  {
   "cell_type": "markdown",
   "metadata": {},
   "source": [
    "### Resnet"
   ]
  },
  {
   "cell_type": "code",
   "execution_count": 432,
   "metadata": {},
   "outputs": [
    {
     "name": "stdout",
     "output_type": "stream",
     "text": []
    }
   ],
   "source": [
    "model = resnet50\n",
    "tfms = tfms_from_model(model, 64, aug_tfms=transforms_side_on, max_zoom=1.05)\n",
    "\n",
    "data = ImageClassifierData.from_csv(\n",
    "    path='../data',\n",
    "    folder='train',\n",
    "    csv_fname='../data/train/train.csv',\n",
    "    bs=32,\n",
    "    test_name='test',\n",
    "    skip_header=True,\n",
    "    suffix='.jpg',\n",
    "    val_idxs=get_cv_idxs(n, val_pct=0.2),\n",
    "    tfms=tfms\n",
    ")\n",
    "\n",
    "learn = ConvLearner.pretrained(model, data)\n",
    "learn.load('80k_unfrozen_res50_l064_07.h5')\n",
    "\n",
    "y_test_res_pred_tta, y = learn.TTA(is_test=True)\n",
    "y_test_res_pred_mean_tta = np.mean(y_test_res_pred_tta, axis=0)"
   ]
  },
  {
   "cell_type": "markdown",
   "metadata": {},
   "source": [
    "### VGG"
   ]
  },
  {
   "cell_type": "code",
   "execution_count": 454,
   "metadata": {},
   "outputs": [
    {
     "name": "stdout",
     "output_type": "stream",
     "text": []
    }
   ],
   "source": [
    "model = vgg16\n",
    "tfms = tfms_from_model(model, 64, aug_tfms=transforms_side_on, max_zoom=1.05)\n",
    "\n",
    "data = ImageClassifierData.from_csv(\n",
    "    path='../data',\n",
    "    folder='train',\n",
    "    csv_fname='../data/train/train.csv',\n",
    "    bs=32,\n",
    "    test_name='test',\n",
    "    skip_header=True,\n",
    "    suffix='.jpg',\n",
    "    val_idxs=get_cv_idxs(n, val_pct=0.2),\n",
    "    tfms=tfms\n",
    ")\n",
    "\n",
    "learn = ConvLearner.pretrained(model, data)\n",
    "learn.load('80k_unfrozen_vgg_l062_03.h5')\n",
    "\n",
    "y_test_vgg_pred_tta, y = learn.TTA(is_test=True)\n",
    "y_test_vgg_pred_mean_tta = np.mean(y_test_vgg_pred_tta, axis=0)"
   ]
  },
  {
   "cell_type": "markdown",
   "metadata": {},
   "source": [
    "### Mean"
   ]
  },
  {
   "cell_type": "code",
   "execution_count": 455,
   "metadata": {},
   "outputs": [],
   "source": [
    "y_test_ens = np.array([y_test_res_pred_mean_tta, y_test_vgg_pred_mean_tta])\n",
    "y_test_pred = np.mean(y_test_ens, axis=0)\n",
    "y_pred = (y_test_pred > 0.27).astype('int')"
   ]
  },
  {
   "cell_type": "markdown",
   "metadata": {},
   "source": [
    "## Upload"
   ]
  },
  {
   "cell_type": "code",
   "execution_count": 456,
   "metadata": {},
   "outputs": [],
   "source": [
    "indexes = y_pred * np.array([np.arange(len(y_pred[0])) for _ in np.arange(len(y_pred))])\n",
    "indexes = indexes.tolist()"
   ]
  },
  {
   "cell_type": "code",
   "execution_count": 457,
   "metadata": {},
   "outputs": [],
   "source": [
    "test_files = [f.split('/')[1].split('.')[0] for f in data.test_ds.fnames]\n",
    "test_labels = [\" \".join([data.classes[index] for index in row if index > 0]) for row in indexes]"
   ]
  },
  {
   "cell_type": "code",
   "execution_count": 458,
   "metadata": {},
   "outputs": [],
   "source": [
    "test_df = pd.DataFrame({'image_id': test_files, 'label_id': test_labels})\n",
    "test_df['image_id'] = test_df['image_id'].astype('int')\n",
    "test_df = test_df.sort_values('image_id').reset_index(drop=True)"
   ]
  },
  {
   "cell_type": "code",
   "execution_count": 459,
   "metadata": {},
   "outputs": [],
   "source": [
    "test_df.to_csv('submission_07_jc.csv', index=False)"
   ]
  },
  {
   "cell_type": "code",
   "execution_count": 165,
   "metadata": {},
   "outputs": [
    {
     "data": {
      "text/plain": [
       "array([[0, 0, 0, ..., 0, 0, 0],\n",
       "       [0, 0, 0, ..., 0, 0, 0],\n",
       "       [0, 0, 0, ..., 0, 0, 0],\n",
       "       ..., \n",
       "       [0, 0, 0, ..., 0, 0, 0],\n",
       "       [0, 0, 0, ..., 0, 0, 0],\n",
       "       [0, 0, 0, ..., 0, 0, 0]])"
      ]
     },
     "execution_count": 165,
     "metadata": {},
     "output_type": "execute_result"
    }
   ],
   "source": [
    "y_pred"
   ]
  }
 ],
 "metadata": {
  "kernelspec": {
   "display_name": "Python 3",
   "language": "python",
   "name": "python3"
  },
  "language_info": {
   "codemirror_mode": {
    "name": "ipython",
    "version": 3
   },
   "file_extension": ".py",
   "mimetype": "text/x-python",
   "name": "python",
   "nbconvert_exporter": "python",
   "pygments_lexer": "ipython3",
   "version": "3.6.5"
  }
 },
 "nbformat": 4,
 "nbformat_minor": 2
}
