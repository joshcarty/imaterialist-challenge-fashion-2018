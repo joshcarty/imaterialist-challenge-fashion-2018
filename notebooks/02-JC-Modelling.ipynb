{
 "cells": [
  {
   "cell_type": "code",
   "execution_count": 2,
   "metadata": {},
   "outputs": [],
   "source": [
    "import fastai\n",
    "import pandas as pd\n",
    "import numpy as np\n",
    "import torch\n",
    "import torch.nn as nn\n",
    "\n",
    "from fastai.transforms import transforms_side_on\n",
    "from fastai.conv_learner import ImageClassifierData, get_cv_idxs, resnet34, resnet50, tfms_from_model, ConvLearner, vgg16\n",
    "from fastai.metrics import f1\n",
    "from sklearn.metrics import f1_score, confusion_matrix"
   ]
  },
  {
   "cell_type": "code",
   "execution_count": 5,
   "metadata": {},
   "outputs": [
    {
     "data": {
      "text/plain": [
       "89896"
      ]
     },
     "execution_count": 5,
     "metadata": {},
     "output_type": "execute_result"
    }
   ],
   "source": [
    "df = pd.read_csv('../data/train/train.csv')\n",
    "n = len(df)\n",
    "n"
   ]
  },
  {
   "cell_type": "code",
   "execution_count": 6,
   "metadata": {},
   "outputs": [
    {
     "data": {
      "text/plain": [
       "89896"
      ]
     },
     "execution_count": 6,
     "metadata": {},
     "output_type": "execute_result"
    }
   ],
   "source": [
    "df2 = pd.read_csv('../data/train/train.csv')\n",
    "n = len(df2)\n",
    "n"
   ]
  },
  {
   "cell_type": "code",
   "execution_count": 299,
   "metadata": {},
   "outputs": [
    {
     "ename": "AttributeError",
     "evalue": "'list' object has no attribute 'c'",
     "output_type": "error",
     "traceback": [
      "\u001b[0;31m---------------------------------------------------------------------------\u001b[0m",
      "\u001b[0;31mAttributeError\u001b[0m                            Traceback (most recent call last)",
      "\u001b[0;32m<ipython-input-299-9b0f1208161a>\u001b[0m in \u001b[0;36m<module>\u001b[0;34m()\u001b[0m\n\u001b[1;32m     15\u001b[0m )\n\u001b[1;32m     16\u001b[0m \u001b[0;34m\u001b[0m\u001b[0m\n\u001b[0;32m---> 17\u001b[0;31m \u001b[0mlearn\u001b[0m \u001b[0;34m=\u001b[0m \u001b[0mConvLearner\u001b[0m\u001b[0;34m.\u001b[0m\u001b[0mpretrained\u001b[0m\u001b[0;34m(\u001b[0m\u001b[0mmodel\u001b[0m\u001b[0;34m,\u001b[0m \u001b[0mdata\u001b[0m\u001b[0;34m)\u001b[0m\u001b[0;34m\u001b[0m\u001b[0m\n\u001b[0m",
      "\u001b[0;32m~/anaconda3/envs/fastai/lib/python3.6/site-packages/fastai/conv_learner.py\u001b[0m in \u001b[0;36mpretrained\u001b[0;34m(cls, f, data, ps, xtra_fc, xtra_cut, custom_head, precompute, pretrained, **kwargs)\u001b[0m\n\u001b[1;32m    110\u001b[0m     def pretrained(cls, f, data, ps=None, xtra_fc=None, xtra_cut=0, custom_head=None, precompute=False,\n\u001b[1;32m    111\u001b[0m                    pretrained=True, **kwargs):\n\u001b[0;32m--> 112\u001b[0;31m         models = ConvnetBuilder(f, data.c, data.is_multi, data.is_reg,\n\u001b[0m\u001b[1;32m    113\u001b[0m             ps=ps, xtra_fc=xtra_fc, xtra_cut=xtra_cut, custom_head=custom_head, pretrained=pretrained)\n\u001b[1;32m    114\u001b[0m         \u001b[0;32mreturn\u001b[0m \u001b[0mcls\u001b[0m\u001b[0;34m(\u001b[0m\u001b[0mdata\u001b[0m\u001b[0;34m,\u001b[0m \u001b[0mmodels\u001b[0m\u001b[0;34m,\u001b[0m \u001b[0mprecompute\u001b[0m\u001b[0;34m,\u001b[0m \u001b[0;34m**\u001b[0m\u001b[0mkwargs\u001b[0m\u001b[0;34m)\u001b[0m\u001b[0;34m\u001b[0m\u001b[0m\n",
      "\u001b[0;31mAttributeError\u001b[0m: 'list' object has no attribute 'c'"
     ]
    }
   ],
   "source": [
    "model = resnet50\n",
    "# model = vgg16\n",
    "tfms = tfms_from_model(model, 64, aug_tfms=transforms_side_on, max_zoom=1.05)\n",
    "\n",
    "data_loader = ImageClassifierData.from_csv(\n",
    "    path='../data',\n",
    "    folder='train',\n",
    "    csv_fname='../data/train/train.csv',\n",
    "    bs=32,\n",
    "    test_name='test',\n",
    "    skip_header=True,\n",
    "    suffix='.jpg',\n",
    "    val_idxs=get_cv_idxs(n, val_pct=0.2),\n",
    "    tfms=tfms\n",
    ")\n",
    "\n",
    "learn = ConvLearner.pretrained(model, data)"
   ]
  },
  {
   "cell_type": "code",
   "execution_count": 123,
   "metadata": {},
   "outputs": [
    {
     "data": {
      "application/vnd.jupyter.widget-view+json": {
       "model_id": "15800ea8994a496b82a28b90fcf73da0",
       "version_major": 2,
       "version_minor": 0
      },
      "text/plain": [
       "HBox(children=(IntProgress(value=0, description='Epoch', max=1), HTML(value='')))"
      ]
     },
     "metadata": {},
     "output_type": "display_data"
    },
    {
     "name": "stdout",
     "output_type": "stream",
     "text": [
      " 94%|█████████▍| 2115/2248 [03:50<00:14,  9.16it/s, loss=0.333]"
     ]
    },
    {
     "name": "stderr",
     "output_type": "stream",
     "text": [
      "/home/josh/anaconda3/envs/fastai/lib/python3.6/site-packages/matplotlib/font_manager.py:1328: UserWarning: findfont: Font family ['sans-serif'] not found. Falling back to DejaVu Sans\n",
      "  (prop.get_family(), self.defaultFamily[fontext]))\n"
     ]
    },
    {
     "data": {
      "image/png": "[encoded data removed]",
      "text/plain": [
       "<Figure size 432x288 with 1 Axes>"
      ]
     },
     "metadata": {},
     "output_type": "display_data"
    }
   ],
   "source": [
    "learn.lr_find(start_lr=0.01, end_lr=100)\n",
    "learn.sched.plot()"
   ]
  },
  {
   "cell_type": "code",
   "execution_count": 133,
   "metadata": {},
   "outputs": [
    {
     "name": "stdout",
     "output_type": "stream",
     "text": [
      "\n"
     ]
    },
    {
     "data": {
      "application/vnd.jupyter.widget-view+json": {
       "model_id": "aaa66092df594b69a57b70d4eedc5cdc",
       "version_major": 2,
       "version_minor": 0
      },
      "text/plain": [
       "HBox(children=(IntProgress(value=0, description='Epoch', max=7), HTML(value='')))"
      ]
     },
     "metadata": {},
     "output_type": "display_data"
    },
    {
     "name": "stdout",
     "output_type": "stream",
     "text": [
      "epoch      trn_loss   val_loss   f1         \n",
      "    0      0.090521   0.083472   0.276425  \n",
      "    1      0.085642   0.079007   0.299805  \n",
      "    2      0.083811   0.078469   0.30334   \n",
      "    3      0.081992   0.076827   0.315853  \n",
      "    4      0.080975   0.076031   0.32226   \n",
      "    5      0.080113   0.075851   0.322314  \n",
      "    6      0.080362   0.07567    0.327049  \n",
      "\n"
     ]
    },
    {
     "data": {
      "text/plain": [
       "[array([ 0.07567]), 0.32704900048774987]"
      ]
     },
     "execution_count": 133,
     "metadata": {},
     "output_type": "execute_result"
    }
   ],
   "source": [
    "learn.fit(0.05, 3, cycle_len=1, cycle_mult=2, metrics=[f1])"
   ]
  },
  {
   "cell_type": "code",
   "execution_count": 134,
   "metadata": {},
   "outputs": [],
   "source": [
    "learn.save('80k_frozen_vgg16_l073_01.h5')"
   ]
  },
  {
   "cell_type": "code",
   "execution_count": 178,
   "metadata": {},
   "outputs": [
    {
     "name": "stderr",
     "output_type": "stream",
     "text": [
      "/home/josh/anaconda3/envs/fastai/lib/python3.6/site-packages/matplotlib/font_manager.py:1328: UserWarning: findfont: Font family ['sans-serif'] not found. Falling back to DejaVu Sans\n",
      "  (prop.get_family(), self.defaultFamily[fontext]))\n"
     ]
    },
    {
     "data": {
      "image/png": "[encoded data removed]",
      "text/plain": [
       "<Figure size 432x288 with 1 Axes>"
      ]
     },
     "metadata": {},
     "output_type": "display_data"
    }
   ],
   "source": [
    "learn.sched.plot_loss()"
   ]
  },
  {
   "cell_type": "code",
   "execution_count": 160,
   "metadata": {},
   "outputs": [
    {
     "data": {
      "application/vnd.jupyter.widget-view+json": {
       "model_id": "fa7eecd81ff1466993823bdef76e9fb7",
       "version_major": 2,
       "version_minor": 0
      },
      "text/plain": [
       "HBox(children=(IntProgress(value=0, description='Epoch', max=7), HTML(value='')))"
      ]
     },
     "metadata": {},
     "output_type": "display_data"
    },
    {
     "name": "stdout",
     "output_type": "stream",
     "text": [
      "epoch      trn_loss   val_loss   f1         \n",
      "    0      0.065197   0.062942   0.462194  \n",
      "    1      0.065297   0.062729   0.463321  \n",
      "    2      0.064713   0.062489   0.468134  \n",
      "    3      0.065304   0.06255    0.457411  \n",
      "    4      0.064544   0.062141   0.47184   \n",
      "    5      0.064072   0.061859   0.475904  \n",
      "    6      0.062824   0.061784   0.475552  \n",
      "\n"
     ]
    },
    {
     "data": {
      "text/plain": [
       "[array([ 0.06178]), 0.47555245041794264]"
      ]
     },
     "execution_count": 160,
     "metadata": {},
     "output_type": "execute_result"
    }
   ],
   "source": [
    "lr = 0.05\n",
    "lrs = np.array([lr/9, lr/3, lr])\n",
    "\n",
    "learn.unfreeze()\n",
    "learn.bn_freeze(True)\n",
    "learn.fit(lrs, 3, cycle_len=1, cycle_mult=2, metrics=[f1])"
   ]
  },
  {
   "cell_type": "code",
   "execution_count": 176,
   "metadata": {},
   "outputs": [
    {
     "name": "stderr",
     "output_type": "stream",
     "text": [
      "/home/josh/anaconda3/envs/fastai/lib/python3.6/site-packages/matplotlib/font_manager.py:1328: UserWarning: findfont: Font family ['sans-serif'] not found. Falling back to DejaVu Sans\n",
      "  (prop.get_family(), self.defaultFamily[fontext]))\n"
     ]
    },
    {
     "data": {
      "image/png": "[encoded data removed]",
      "text/plain": [
       "<Figure size 432x288 with 1 Axes>"
      ]
     },
     "metadata": {},
     "output_type": "display_data"
    }
   ],
   "source": [
    "learn.sched.plot_loss()"
   ]
  },
  {
   "cell_type": "code",
   "execution_count": 180,
   "metadata": {},
   "outputs": [],
   "source": [
    "learn.load('80k_unfrozen_vgg_l062_03.h5')"
   ]
  },
  {
   "cell_type": "code",
   "execution_count": 177,
   "metadata": {},
   "outputs": [],
   "source": [
    "learn.save('80k_unfrozen_vgg_l062_03.h5')"
   ]
  },
  {
   "cell_type": "code",
   "execution_count": 175,
   "metadata": {},
   "outputs": [
    {
     "data": {
      "text/plain": [
       "'test'"
      ]
     },
     "execution_count": 175,
     "metadata": {},
     "output_type": "execute_result"
    }
   ],
   "source": [
    "\"test\""
   ]
  },
  {
   "cell_type": "code",
   "execution_count": 35,
   "metadata": {},
   "outputs": [
    {
     "data": {
      "text/plain": [
       "0.50930764701955"
      ]
     },
     "execution_count": 35,
     "metadata": {},
     "output_type": "execute_result"
    }
   ],
   "source": [
    "f1_score(data.val_y, (r > 0.5).astype('int'), average='micro')"
   ]
  },
  {
   "cell_type": "markdown",
   "metadata": {},
   "source": [
    "epoch      trn_loss   val_loss   f1         \n",
    "    0      0.073951   0.068929   0.400015  \n",
    "    1      0.07083    0.066772   0.420267  \n",
    "    2      0.06885    0.066089   0.430194  \n",
    "    3      0.068745   0.065344   0.429623  \n",
    "    4      0.066999   0.064264   0.44773   \n",
    "    5      0.06646    0.063691   0.454684  \n",
    "    6      0.064944   0.063579   0.455228 "
   ]
  },
  {
   "cell_type": "markdown",
   "metadata": {},
   "source": [
    "## Smaller dataset"
   ]
  },
  {
   "cell_type": "markdown",
   "metadata": {},
   "source": [
    "epoch      trn_loss   val_loss   f1         \n",
    "    0      0.066983   0.06522    0.425546  \n",
    "    1      0.066745   0.064873   0.428255  \n",
    "    2      0.065601   0.064245   0.437942  \n",
    "    3      0.065818   0.064258   0.438524  \n",
    "    4      0.064589   0.0636     0.444416  \n",
    "    5      0.063011   0.063096   0.450158  \n",
    "    6      0.063714   0.062969   0.451249  "
   ]
  },
  {
   "cell_type": "markdown",
   "metadata": {},
   "source": [
    "epoch      trn_loss   val_loss   f1         \n",
    "    0      0.06925    0.066507   0.410306  \n",
    "    1      0.067576   0.06488    0.427754  \n",
    "    2      0.066472   0.063824   0.438416  \n",
    "    3      0.065884   0.063242   0.439078  \n",
    "    4      0.064314   0.062332   0.449727  \n",
    "    5      0.062504   0.061674   0.461273  \n",
    "    6      0.061869   0.061471   0.464788  "
   ]
  },
  {
   "cell_type": "markdown",
   "metadata": {},
   "source": [
    "epoch      trn_loss   val_loss   f1   \n",
    "    0      0.058538   0.059815   0.489146  \n",
    "    1      0.058188   0.060192   0.490329  \n",
    "    2      0.056603   0.059689   0.493746  \n",
    "    3      0.058777   0.06046    0.484378  \n",
    "    4      0.057168   0.059737   0.490181  \n",
    "    5      0.054945   0.059664   0.498285  \n",
    "    6      0.053811   0.0596     0.499312  "
   ]
  },
  {
   "cell_type": "code",
   "execution_count": 16,
   "metadata": {},
   "outputs": [
    {
     "name": "stderr",
     "output_type": "stream",
     "text": [
      "/home/josh/anaconda3/envs/fastai/lib/python3.6/site-packages/matplotlib/font_manager.py:1328: UserWarning: findfont: Font family ['sans-serif'] not found. Falling back to DejaVu Sans\n",
      "  (prop.get_family(), self.defaultFamily[fontext]))\n"
     ]
    },
    {
     "data": {
      "image/png": "[encoded data removed]",
      "text/plain": [
       "<Figure size 432x288 with 1 Axes>"
      ]
     },
     "metadata": {},
     "output_type": "display_data"
    }
   ],
   "source": [
    "learn.sched.plot_loss()"
   ]
  },
  {
   "cell_type": "markdown",
   "metadata": {},
   "source": [
    "## Validation"
   ]
  },
  {
   "cell_type": "code",
   "execution_count": 110,
   "metadata": {},
   "outputs": [],
   "source": [
    "multi_preds, y = learn.TTA()\n",
    "preds = np.mean(multi_preds, axis=0)\n",
    "y_pred = (preds > 0.3).astype('int')"
   ]
  },
  {
   "cell_type": "code",
   "execution_count": 108,
   "metadata": {},
   "outputs": [
    {
     "data": {
      "text/plain": [
       "0.55765063050376285"
      ]
     },
     "execution_count": 108,
     "metadata": {},
     "output_type": "execute_result"
    }
   ],
   "source": [
    "f1_score(y, y_pred, average='micro')"
   ]
  },
  {
   "cell_type": "markdown",
   "metadata": {},
   "source": [
    "## Testing"
   ]
  },
  {
   "cell_type": "code",
   "execution_count": 89,
   "metadata": {},
   "outputs": [],
   "source": [
    "multi_preds, y = learn.TTA(is_test=True)\n",
    "preds = np.mean(multi_preds, axis=0)"
   ]
  },
  {
   "cell_type": "code",
   "execution_count": 96,
   "metadata": {},
   "outputs": [
    {
     "data": {
      "text/plain": [
       "226"
      ]
     },
     "execution_count": 96,
     "metadata": {},
     "output_type": "execute_result"
    }
   ],
   "source": [
    "len(data.classes)"
   ]
  },
  {
   "cell_type": "code",
   "execution_count": 98,
   "metadata": {},
   "outputs": [],
   "source": [
    "y_pred = (preds > 0.5).astype('int')"
   ]
  },
  {
   "cell_type": "code",
   "execution_count": 120,
   "metadata": {},
   "outputs": [],
   "source": [
    "import matplotlib.pyplot as plt"
   ]
  },
  {
   "cell_type": "code",
   "execution_count": 124,
   "metadata": {},
   "outputs": [
    {
     "data": {
      "text/plain": [
       "(3, 64, 64)"
      ]
     },
     "execution_count": 124,
     "metadata": {},
     "output_type": "execute_result"
    }
   ],
   "source": [
    "data.test_ds[0][0].shape"
   ]
  },
  {
   "cell_type": "markdown",
   "metadata": {},
   "source": [
    "## Stacking"
   ]
  },
  {
   "cell_type": "code",
   "execution_count": 270,
   "metadata": {},
   "outputs": [],
   "source": [
    "res = ConvLearner.pretrained(resnet50, data)\n",
    "res.load('80k_unfrozen_res50_l064_07.h5')"
   ]
  },
  {
   "cell_type": "code",
   "execution_count": 269,
   "metadata": {},
   "outputs": [],
   "source": [
    "vgg = ConvLearner.pretrained(vgg16, data)\n",
    "vgg.load('80k_unfrozen_vgg_l062_03.h5')"
   ]
  },
  {
   "cell_type": "code",
   "execution_count": 271,
   "metadata": {},
   "outputs": [],
   "source": [
    "vgg = vgg.model\n",
    "res = res.model"
   ]
  },
  {
   "cell_type": "code",
   "execution_count": 11,
   "metadata": {},
   "outputs": [],
   "source": [
    "import torch.nn as nn"
   ]
  },
  {
   "cell_type": "code",
   "execution_count": 275,
   "metadata": {},
   "outputs": [],
   "source": [
    "class CombineModels(nn.Module):\n",
    "    def __init__(self, vgg, res):\n",
    "        super().__init__()\n",
    "        self.vgg = vgg\n",
    "        self.res = res\n",
    "        \n",
    "        self.vgg_out = vgg[-2].out_features\n",
    "        self.res_out = res[-2].out_features\n",
    "        self.linear = nn.Linear(self.vgg_out + self.res_out, self.vgg_out)\n",
    "        self.sigmoid = nn.Sigmoid()\n",
    "        \n",
    "    def forward(self, x):\n",
    "        x = torch.cat([self.vgg(x), self.res(x)], 1)\n",
    "        x = self.linear(x)\n",
    "        x = self.sigmoid(x)\n",
    "        return x"
   ]
  },
  {
   "cell_type": "code",
   "execution_count": 277,
   "metadata": {},
   "outputs": [],
   "source": [
    "combined = CombineModels(vgg, res).cuda()"
   ]
  },
  {
   "cell_type": "code",
   "execution_count": 285,
   "metadata": {},
   "outputs": [],
   "source": [
    "params = list(combined.named_parameters())"
   ]
  },
  {
   "cell_type": "code",
   "execution_count": 308,
   "metadata": {},
   "outputs": [],
   "source": [
    "x, y = next(iter(data_loader.trn_dl))"
   ]
  },
  {
   "cell_type": "code",
   "execution_count": 315,
   "metadata": {},
   "outputs": [
    {
     "data": {
      "text/plain": [
       "torch.cuda.FloatTensor"
      ]
     },
     "execution_count": 315,
     "metadata": {},
     "output_type": "execute_result"
    }
   ],
   "source": [
    "type(y)"
   ]
  },
  {
   "cell_type": "code",
   "execution_count": null,
   "metadata": {},
   "outputs": [],
   "source": []
  },
  {
   "cell_type": "code",
   "execution_count": 286,
   "metadata": {},
   "outputs": [],
   "source": [
    "for name, param in params:\n",
    "    if name in ('linear.weight', 'linear.bias'):\n",
    "        param.requires_grad = True\n",
    "    else:\n",
    "        param.requires_grad = False"
   ]
  },
  {
   "cell_type": "code",
   "execution_count": 294,
   "metadata": {},
   "outputs": [],
   "source": [
    "optimizer = torch.optim.SGD([p for n, p in params[-2:]], lr=0.01)"
   ]
  },
  {
   "cell_type": "code",
   "execution_count": 316,
   "metadata": {},
   "outputs": [],
   "source": [
    "criterion = torch.nn.modules.loss.BCELoss()"
   ]
  },
  {
   "cell_type": "code",
   "execution_count": 327,
   "metadata": {},
   "outputs": [
    {
     "data": {
      "text/plain": [
       "0.69144666"
      ]
     },
     "execution_count": 327,
     "metadata": {},
     "output_type": "execute_result"
    }
   ],
   "source": []
  },
  {
   "cell_type": "code",
   "execution_count": 338,
   "metadata": {},
   "outputs": [
    {
     "data": {
      "text/plain": [
       "2248"
      ]
     },
     "execution_count": 338,
     "metadata": {},
     "output_type": "execute_result"
    }
   ],
   "source": [
    "len(data_loader.trn_dl)"
   ]
  },
  {
   "cell_type": "code",
   "execution_count": 339,
   "metadata": {},
   "outputs": [
    {
     "name": "stdout",
     "output_type": "stream",
     "text": [
      "[1,     1] loss: 0.000\n",
      "[1,   101] loss: 0.033\n",
      "[1,   201] loss: 0.033\n",
      "[1,   301] loss: 0.033\n",
      "[1,   401] loss: 0.033\n",
      "[1,   501] loss: 0.032\n",
      "[1,   601] loss: 0.032\n",
      "[1,   701] loss: 0.032\n",
      "[1,   801] loss: 0.032\n",
      "[1,   901] loss: 0.032\n",
      "[1,  1001] loss: 0.032\n",
      "[1,  1101] loss: 0.032\n",
      "[1,  1201] loss: 0.031\n",
      "[1,  1301] loss: 0.031\n",
      "[1,  1401] loss: 0.031\n",
      "[1,  1501] loss: 0.031\n",
      "[1,  1601] loss: 0.031\n",
      "[1,  1701] loss: 0.031\n",
      "[1,  1801] loss: 0.031\n",
      "[1,  1901] loss: 0.030\n",
      "[1,  2001] loss: 0.030\n",
      "[1,  2101] loss: 0.030\n",
      "[1,  2201] loss: 0.030\n",
      "[2,     1] loss: 0.000\n",
      "[2,   101] loss: 0.030\n",
      "[2,   201] loss: 0.030\n",
      "[2,   301] loss: 0.030\n",
      "[2,   401] loss: 0.029\n",
      "[2,   501] loss: 0.029\n",
      "[2,   601] loss: 0.029\n",
      "[2,   701] loss: 0.029\n",
      "[2,   801] loss: 0.029\n",
      "[2,   901] loss: 0.029\n",
      "[2,  1001] loss: 0.029\n",
      "[2,  1101] loss: 0.029\n",
      "[2,  1201] loss: 0.028\n",
      "[2,  1301] loss: 0.028\n",
      "[2,  1401] loss: 0.028\n",
      "[2,  1501] loss: 0.028\n",
      "[2,  1601] loss: 0.028\n",
      "[2,  1701] loss: 0.028\n",
      "[2,  1801] loss: 0.028\n",
      "[2,  1901] loss: 0.028\n",
      "[2,  2001] loss: 0.027\n",
      "[2,  2101] loss: 0.027\n",
      "[2,  2201] loss: 0.027\n",
      "Finished Training\n"
     ]
    }
   ],
   "source": [
    "for epoch in range(2):  # loop over the dataset multiple times\n",
    "\n",
    "    running_loss = 0.0\n",
    "    for i, data in enumerate(data_loader.trn_dl, 0):\n",
    "        inputs, labels = data\n",
    "\n",
    "        optimizer.zero_grad()\n",
    "\n",
    "        inputs = torch.autograd.Variable(inputs).cuda()\n",
    "        labels = torch.autograd.Variable(labels).cuda()\n",
    "        outputs = combined(inputs)\n",
    "\n",
    "        loss = criterion(outputs, labels)\n",
    "        loss.backward()\n",
    "        optimizer.step()\n",
    "\n",
    "        # print statistics\n",
    "        running_loss += loss.data.cpu().numpy()[0]\n",
    "        if i % 100 == 0:    # print every 2000 mini-batches\n",
    "            print('[%d, %5d] loss: %.3f' %\n",
    "                  (epoch + 1, i + 1, running_loss / 2000))\n",
    "            running_loss = 0.0\n",
    "\n",
    "print('Finished Training')"
   ]
  },
  {
   "cell_type": "code",
   "execution_count": 340,
   "metadata": {},
   "outputs": [
    {
     "name": "stderr",
     "output_type": "stream",
     "text": [
      "/home/josh/anaconda3/envs/fastai/lib/python3.6/site-packages/torch/serialization.py:159: UserWarning: Couldn't retrieve source code for container of type CombineModels. It won't be checked for correctness upon loading.\n",
      "  \"type \" + obj.__name__ + \". It won't be checked \"\n"
     ]
    }
   ],
   "source": [
    "with open('combined_model_027.pkl', 'wb') as f:\n",
    "    torch.save(combined, f)"
   ]
  },
  {
   "cell_type": "code",
   "execution_count": 347,
   "metadata": {},
   "outputs": [],
   "source": [
    "x, y = next(iter(data_loader.val_dl))\n",
    "x = torch.autograd.Variable(x).cuda()"
   ]
  },
  {
   "cell_type": "code",
   "execution_count": 351,
   "metadata": {},
   "outputs": [],
   "source": [
    "y_pred = combined(x).data.cpu().numpy()\n",
    "y = y.cpu().numpy()"
   ]
  },
  {
   "cell_type": "code",
   "execution_count": 368,
   "metadata": {},
   "outputs": [
    {
     "data": {
      "text/plain": [
       "0.049458628525598181"
      ]
     },
     "execution_count": 368,
     "metadata": {},
     "output_type": "execute_result"
    }
   ],
   "source": [
    "f1_score(y, (y_pred > 0.25).astype('int'), average='micro')"
   ]
  },
  {
   "cell_type": "code",
   "execution_count": 202,
   "metadata": {},
   "outputs": [
    {
     "data": {
      "text/plain": [
       "array([ 59,  70,  76,  99, 175])"
      ]
     },
     "execution_count": 202,
     "metadata": {},
     "output_type": "execute_result"
    }
   ],
   "source": [
    "classes = np.arange(len(y_pred[i])) * y_pred[i]\n",
    "classes[classes > 0]"
   ]
  },
  {
   "cell_type": "code",
   "execution_count": 203,
   "metadata": {},
   "outputs": [
    {
     "data": {
      "text/plain": [
       "array([  8,  59,  70,  99, 175])"
      ]
     },
     "execution_count": 203,
     "metadata": {},
     "output_type": "execute_result"
    }
   ],
   "source": [
    "classes = np.arange(len(y_pred[j])) * y_pred[j]\n",
    "classes[classes > 0]"
   ]
  },
  {
   "cell_type": "code",
   "execution_count": 214,
   "metadata": {},
   "outputs": [],
   "source": [
    "indexes = y_pred * np.array([np.arange(len(y_pred[0])) for _ in np.arange(len(y_pred))])\n",
    "indexes = indexes.tolist()"
   ]
  },
  {
   "cell_type": "code",
   "execution_count": 241,
   "metadata": {},
   "outputs": [],
   "source": [
    "test_files = [f.split('/')[1].split('.')[0] for f in data.test_ds.fnames]\n",
    "test_labels = [\" \".join([data.classes[index] for index in row if index > 0]) for row in indexes]"
   ]
  },
  {
   "cell_type": "code",
   "execution_count": 256,
   "metadata": {},
   "outputs": [],
   "source": [
    "test_df = pd.DataFrame({'image_id': test_files, 'label_id': test_labels})\n",
    "test_df['image_id'] = test_df['image_id'].astype('int')\n",
    "test_df = test_df.sort_values('image_id').reset_index(drop=True)"
   ]
  },
  {
   "cell_type": "code",
   "execution_count": 260,
   "metadata": {},
   "outputs": [],
   "source": [
    "test_df.to_csv('submission_01_jc.csv', index=False)"
   ]
  },
  {
   "cell_type": "code",
   "execution_count": 205,
   "metadata": {},
   "outputs": [
    {
     "data": {
      "text/plain": [
       "array([[0, 0, 0, ..., 0, 0, 0],\n",
       "       [0, 0, 0, ..., 0, 0, 0],\n",
       "       [0, 0, 0, ..., 0, 0, 0],\n",
       "       ..., \n",
       "       [0, 0, 0, ..., 0, 0, 0],\n",
       "       [0, 0, 0, ..., 0, 0, 0],\n",
       "       [0, 0, 0, ..., 0, 0, 0]])"
      ]
     },
     "execution_count": 205,
     "metadata": {},
     "output_type": "execute_result"
    }
   ],
   "source": [
    "y_pred"
   ]
  },
  {
   "cell_type": "code",
   "execution_count": 21,
   "metadata": {},
   "outputs": [],
   "source": [
    "import os"
   ]
  },
  {
   "cell_type": "code",
   "execution_count": 23,
   "metadata": {},
   "outputs": [
    {
     "data": {
      "text/plain": [
       "['train_52682.jpg',\n",
       " 'train_34603.jpg',\n",
       " 'train_49693.jpg',\n",
       " 'train_62929.jpg',\n",
       " 'valid_8366.jpg']"
      ]
     },
     "execution_count": 23,
     "metadata": {},
     "output_type": "execute_result"
    }
   ],
   "source": [
    "os.listdir('../data/train/')[:5]"
   ]
  },
  {
   "cell_type": "code",
   "execution_count": 24,
   "metadata": {},
   "outputs": [
    {
     "data": {
      "text/plain": [
       "os.stat_result(st_mode=33204, st_ino=1016467, st_dev=2049, st_nlink=1, st_uid=1003, st_gid=1004, st_size=11818, st_atime=1527027170, st_mtime=1527023648, st_ctime=1527023648)"
      ]
     },
     "execution_count": 24,
     "metadata": {},
     "output_type": "execute_result"
    }
   ],
   "source": [
    "os.stat('../data/train/train_52600.jpg')"
   ]
  },
  {
   "cell_type": "code",
   "execution_count": 28,
   "metadata": {},
   "outputs": [],
   "source": [
    "from datetime import datetime"
   ]
  },
  {
   "cell_type": "code",
   "execution_count": null,
   "metadata": {},
   "outputs": [],
   "source": [
    "os.path.get"
   ]
  },
  {
   "cell_type": "code",
   "execution_count": 39,
   "metadata": {},
   "outputs": [
    {
     "data": {
      "text/plain": [
       "'2018-05-22 21:14:08.018030'"
      ]
     },
     "execution_count": 39,
     "metadata": {},
     "output_type": "execute_result"
    }
   ],
   "source": [
    "dtime = os.path.getmtime('../data/train/train_52600.jpg')\n",
    "str(datetime.fromtimestamp(dtime))"
   ]
  },
  {
   "cell_type": "code",
   "execution_count": 84,
   "metadata": {},
   "outputs": [],
   "source": [
    "files = pd.DataFrame({'filename': os.listdir('../data/train')})\n",
    "files = files[files['filename'].str.endswith('.jpg')]"
   ]
  },
  {
   "cell_type": "code",
   "execution_count": 85,
   "metadata": {},
   "outputs": [],
   "source": [
    "def get_mtime(filename):\n",
    "    mtime = os.path.getmtime(f'../data/train/{filename}')\n",
    "    return datetime.fromtimestamp(mtime)"
   ]
  },
  {
   "cell_type": "code",
   "execution_count": 86,
   "metadata": {},
   "outputs": [],
   "source": [
    "files['mtime'] = files['filename'].apply(get_mtime)"
   ]
  },
  {
   "cell_type": "code",
   "execution_count": 87,
   "metadata": {},
   "outputs": [],
   "source": [
    "files['day'] = files['mtime'].apply(lambda date: date.day)"
   ]
  }
 ],
 "metadata": {
  "kernelspec": {
   "display_name": "Python 3",
   "language": "python",
   "name": "python3"
  },
  "language_info": {
   "codemirror_mode": {
    "name": "ipython",
    "version": 3
   },
   "file_extension": ".py",
   "mimetype": "text/x-python",
   "name": "python",
   "nbconvert_exporter": "python",
   "pygments_lexer": "ipython3",
   "version": "3.6.5"
  }
 },
 "nbformat": 4,
 "nbformat_minor": 2
}
